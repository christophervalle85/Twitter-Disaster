{
 "cells": [
  {
   "cell_type": "markdown",
   "metadata": {},
   "source": [
    "# Importing Dependencies "
   ]
  },
  {
   "cell_type": "code",
   "execution_count": 35,
   "metadata": {},
   "outputs": [],
   "source": [
    "import pandas as pd  \n",
    "import numpy as np \n",
    "import re  # regex to preprocess data \n",
    "import matplotlib.pyplot as plt  \n",
    "import seaborn as sns \n",
    "from sklearn.model_selection import train_test_split\n",
    "from sklearn.feature_extraction.text import TfidfVectorizer, ENGLISH_STOP_WORDS\n",
    "from sklearn.linear_model import LogisticRegression  \n",
    "from sklearn.naive_bayes import MultinomialNB  \n",
    "from sklearn.ensemble import RandomForestClassifier  \n",
    "from sklearn.svm import SVC  \n",
    "from sklearn.metrics import accuracy_score, classification_report, confusion_matrix, f1_score"
   ]
  },
  {
   "cell_type": "markdown",
   "metadata": {},
   "source": [
    "# Load Data"
   ]
  },
  {
   "cell_type": "code",
   "execution_count": 36,
   "metadata": {},
   "outputs": [],
   "source": [
    "# load the training data\n",
    "df = pd.read_csv('data/train.csv')\n",
    "\n",
    "# load the testing data\n",
    "testing = pd.read_csv('data/test.csv')"
   ]
  },
  {
   "cell_type": "markdown",
   "metadata": {},
   "source": [
    "# Preprocessing Text"
   ]
  },
  {
   "cell_type": "code",
   "execution_count": null,
   "metadata": {},
   "outputs": [],
   "source": [
    "def preprocess_text(text):\n",
    "    text = re.sub(r'http\\S+', '', text)  # remove URLs\n",
    "    text = re.sub(r'@\\S+', '', text)  # remove mentions\n",
    "    text = re.sub(r'#\\S+', '', text)  # remove hashtags\n",
    "    text = re.sub(r'[^a-zA-Z\\s]', '', text)  # remove special characters\n",
    "    text = text.lower() \n",
    "    text = ' '.join([word for word in text.split() if word not in ENGLISH_STOP_WORDS])  # remove stopwords\n",
    "    return text\n",
    "\n",
    "# clean the training data\n",
    "df['cleaned_text'] = df['text'].apply(preprocess_text)\n",
    "\n",
    "# clean the testing data\n",
    "testing['cleaned_text'] = testing['text'].apply(preprocess_text)"
   ]
  },
  {
   "cell_type": "markdown",
   "metadata": {},
   "source": [
    "# Preparing Data "
   ]
  },
  {
   "cell_type": "code",
   "execution_count": null,
   "metadata": {},
   "outputs": [],
   "source": [
    "# use TF-IDF\n",
    "vectorizer = TfidfVectorizer(max_features=5000)\n",
    "X = vectorizer.fit_transform(df['cleaned_text'])\n",
    "y = df['target']\n",
    "\n",
    "# split the data into training/testing\n",
    "X_train, X_test, y_train, y_test = train_test_split(X, y, test_size=0.2, random_state=42)"
   ]
  },
  {
   "cell_type": "markdown",
   "metadata": {},
   "source": [
    "# Prepare Models For Testing"
   ]
  },
  {
   "cell_type": "code",
   "execution_count": null,
   "metadata": {},
   "outputs": [],
   "source": [
    "# start the models for testing\n",
    "models = {\n",
    "    \"Logistic Regression\": LogisticRegression(),\n",
    "    \"Naive Bayes\": MultinomialNB(),\n",
    "    \"Random Forest\": RandomForestClassifier(n_estimators=100),\n",
    "    \"SVM\": SVC()\n",
    "}"
   ]
  },
  {
   "cell_type": "markdown",
   "metadata": {},
   "source": [
    "# Evaluation "
   ]
  },
  {
   "cell_type": "code",
   "execution_count": null,
   "metadata": {},
   "outputs": [
    {
     "name": "stdout",
     "output_type": "stream",
     "text": [
      "Logistic Regression F1 Score: 0.7310\n",
      "Naive Bayes F1 Score: 0.7341\n",
      "Random Forest F1 Score: 0.7155\n",
      "SVM F1 Score: 0.7309\n"
     ]
    }
   ],
   "source": [
    "# keep track of the best model and its F1 score\n",
    "best_model = None\n",
    "best_f1 = 0\n",
    "\n",
    "# train the models and evaluate their performance \n",
    "for name, model in models.items():\n",
    "\n",
    "    # training the model\n",
    "    model.fit(X_train, y_train)\n",
    "    \n",
    "    # eval\n",
    "    y_pred = model.predict(X_test)\n",
    "    f1 = f1_score(y_test, y_pred)\n",
    "    print(f\"{name} F1 Score: {f1:.4f}\")\n",
    "    \n",
    "    # update the best model if needed\n",
    "    if f1 > best_f1:\n",
    "        best_f1 = f1\n",
    "        best_model = model"
   ]
  },
  {
   "cell_type": "markdown",
   "metadata": {},
   "source": [
    "# Use Best Model on Test Data"
   ]
  },
  {
   "cell_type": "code",
   "execution_count": null,
   "metadata": {},
   "outputs": [],
   "source": [
    "# use the testing data now \n",
    "X_test_cleaned = vectorizer.transform(testing['cleaned_text'])\n",
    "y_pred_test = best_model.predict(X_test_cleaned)\n",
    "\n",
    "submission = pd.DataFrame({\n",
    "    'id': testing['id'], \n",
    "    'target': y_pred_test\n",
    "})\n",
    "\n",
    "# save the output to the data folder as the 'test_submission'\n",
    "submission.to_csv('data/test_submission.csv', index=False)"
   ]
  }
 ],
 "metadata": {
  "kernelspec": {
   "display_name": "venv",
   "language": "python",
   "name": "python3"
  },
  "language_info": {
   "codemirror_mode": {
    "name": "ipython",
    "version": 3
   },
   "file_extension": ".py",
   "mimetype": "text/x-python",
   "name": "python",
   "nbconvert_exporter": "python",
   "pygments_lexer": "ipython3",
   "version": "3.13.2"
  }
 },
 "nbformat": 4,
 "nbformat_minor": 2
}
